{
 "cells": [
  {
   "cell_type": "markdown",
   "id": "db8aaa91",
   "metadata": {},
   "source": [
    "#### _______IMPORTS Y AUTENTICACIONES_______"
   ]
  },
  {
   "cell_type": "code",
   "execution_count": 3,
   "id": "5442f27e",
   "metadata": {},
   "outputs": [
    {
     "data": {
      "text/plain": [
       "'\\nAQUÍ PONEMOS LAS CLAVES DE TODAS PARA IR VARIANDO EN FUNCIÓN DE CUANDO SALGAN RATE LIMITS\\nCLAVES IRINA\\n768f68e91bc641f89df701439c4b0255\\n671c7e27d76241cca8082b751071789a\\n\\nCLAVES ELENA\\nfec1ea7ca457405e81c273b6d7b1dbf7\\n2811d856f33d4404920796597621b514\\n\\nCLAVES GEMA\\n498ba98d2f134171840b8e8a508522a9\\n7fdc4fc6f9a84f368a60b4bec19aefb7\\n\\nCLAVES MARIA\\n74da384a9fab4748ab050fb0b532f11c\\n9f250736046943758dd217b8c795f300\\n'"
      ]
     },
     "execution_count": 3,
     "metadata": {},
     "output_type": "execute_result"
    }
   ],
   "source": [
    "# IMPORTS\n",
    "import spotipy\n",
    "from spotipy.oauth2 import SpotifyClientCredentials\n",
    "import pandas as pd\n",
    "from concurrent.futures import ThreadPoolExecutor\n",
    "\n",
    "# CREDENCIALES\n",
    "CLIENT_ID = '768f68e91bc641f89df701439c4b0255'          # Variar en función del rate limit\n",
    "CLIENT_SECRET = '671c7e27d76241cca8082b751071789a'      # Variar en función del rate limit\n",
    "\n",
    "# AUTENTICACIÓN\n",
    "auth_manager = SpotifyClientCredentials(client_id=CLIENT_ID, client_secret=CLIENT_SECRET)\n",
    "sp = spotipy.Spotify(auth_manager=auth_manager, requests_timeout=20)\n",
    "\n",
    "\"\"\"\n",
    "AQUÍ PONEMOS LAS CLAVES DE TODAS PARA IR VARIANDO EN FUNCIÓN DE CUANDO SALGAN RATE LIMITS\n",
    "CLAVES IRINA\n",
    "768f68e91bc641f89df701439c4b0255\n",
    "671c7e27d76241cca8082b751071789a\n",
    "\n",
    "CLAVES ELENA\n",
    "fec1ea7ca457405e81c273b6d7b1dbf7\n",
    "2811d856f33d4404920796597621b514\n",
    "\n",
    "CLAVES GEMA\n",
    "498ba98d2f134171840b8e8a508522a9\n",
    "7fdc4fc6f9a84f368a60b4bec19aefb7\n",
    "\n",
    "CLAVES MARIA\n",
    "74da384a9fab4748ab050fb0b532f11c\n",
    "9f250736046943758dd217b8c795f300\n",
    "\"\"\""
   ]
  },
  {
   "cell_type": "markdown",
   "id": "ec0b546b",
   "metadata": {},
   "source": [
    "# ________CONSULTA DE 250 ÁLBUMES POR GÉNERO________"
   ]
  },
  {
   "cell_type": "code",
   "execution_count": 4,
   "id": "ae82b102",
   "metadata": {},
   "outputs": [
    {
     "name": "stdout",
     "output_type": "stream",
     "text": [
      "Obteniendo 250 álbumes del género rock...\n",
      "✔ 250 álbumes obtenidos de rock\n",
      "=================================\n",
      "Obteniendo 250 álbumes del género R&B...\n",
      "✔ 250 álbumes obtenidos de R&B\n",
      "=================================\n",
      "Obteniendo 250 álbumes del género indie...\n",
      "✔ 250 álbumes obtenidos de indie\n",
      "=================================\n",
      "Obteniendo 250 álbumes del género pop...\n",
      "✔ 250 álbumes obtenidos de pop\n",
      "=================================\n"
     ]
    }
   ],
   "source": [
    "albums_per_genre = 250   # Número máximo de albumes que queremos obtener por género\n",
    "genres = [\"rock\", \"R&B\", \"indie\", \"pop\"]   # Lista de géneros que queremos consultar\n",
    "datas_albums = {}        # Diccionario para guardar todos los albumes organizados por género\n",
    "\n",
    "# Iteramos cada género de la lista\n",
    "for genre in genres:\n",
    "    print(f\"Obteniendo {albums_per_genre} álbumes del género {genre}...\") # Print de control\n",
    "    albums_info = []   # Lista para almacenar la información de los álbumes de este género\n",
    "    offset = 0         # Nos ayuda a controlar la paginación \n",
    "\n",
    "    # Mientras no tengamos suficientes albumes y no superemos 1000 resultados...:\n",
    "    while len(albums_info) < albums_per_genre and offset < 1000:\n",
    "        # 1. Busca artistas en Spotify del género actual\n",
    "        artists = sp.search(\n",
    "            q=f\"genre:{genre}\",   # Filtramos por género\n",
    "            type=\"artist\",        # Queremos resultados de tipo artista\n",
    "            limit=50,             # El máximo que nos permiten es 50 artistas por consulta\n",
    "            offset=offset,        # Offset para paginar los resultados\n",
    "            market=\"ES\"           # Porque queremos extraer información del mercado español, pero es opcional. Si no, sacaría a nivel global.\n",
    "        )[\"artists\"][\"items\"]     # Extraemos la lista de artistas\n",
    "        offset += 50              # Avanzamos la paginación para la siguiente búsqueda\n",
    "\n",
    "        # 2. Para cada artista encontrado, buscamos sus albumes\n",
    "        for artist in artists:\n",
    "            artist_albums = sp.artist_albums(\n",
    "                artist[\"id\"],        # Saxamos el ID único del artista\n",
    "                album_type=\"album\",  # Indicamos que solo queremos albumes completos (no singles, etc.)\n",
    "                limit=50             # Igual, máximo 50 albumes por consulta\n",
    "            )[\"items\"]\n",
    "\n",
    "            # Recorremos cada album encontrado\n",
    "            for album in artist_albums:\n",
    "                # Sacamos el año de lanzamiento (los 4 primeros caracteres de release_date)\n",
    "                year = int(album[\"release_date\"][:4])\n",
    "                # Y solo consideramos los albumes publicados entre 2010 y 2015\n",
    "                if 2010 <= year <= 2015:\n",
    "                    # Entonces hacemos otra llamada para pedir del album para sacar toda la información que nos interesa usando su id\n",
    "                    album_details = sp.album(album[\"id\"]) \n",
    "\n",
    "                    # Creamos un diccionario con toda la información del album\n",
    "                    info = {}\n",
    "                    info[\"genre\"] = genre                        # Género del album\n",
    "                    info[\"album_name\"] = album[\"name\"]           # Nombre del album\n",
    "                    info[\"album_id\"] = album[\"id\"]               # ID del album en Spotify\n",
    "                    info[\"release_date\"] = album[\"release_date\"] # Fecha de lanzamiento\n",
    "                    info[\"total_tracks\"] = album[\"total_tracks\"] # Número de canciones del album\n",
    "                    info[\"popularity\"] = album_details[\"popularity\"]  # Popularidad del album (0-100)\n",
    "\n",
    "                    # Para cada album, reiniciamos la lista de artistas\n",
    "                    artists_album = []\n",
    "                    for a in album[\"artists\"]:\n",
    "                        artists_album.append(a[\"name\"])\n",
    "                    # Guardamos la cadena de artistas solo una vez\n",
    "                    info[\"artists_album\"] = \", \".join(artists_album)\n",
    "\n",
    "                    # Haremos otra llamada para obtener algo más de información sobre el artista\n",
    "                    main_artist = album[\"artists\"][0]                  # Tomamos el primer artista (principal)\n",
    "                    artist_details = sp.artist(main_artist[\"id\"])      # Obtenemos sus detalles\n",
    "                    info[\"artist_followers\"] = artist_details[\"followers\"][\"total\"]  # Número de seguidores en Spotify\n",
    "                    info[\"artist_popularity\"] = artist_details[\"popularity\"]         # Popularidad del artista\n",
    "                    info[\"artist_genres\"] = \", \".join(artist_details[\"genres\"])      # Otros géneros asociados al artista\n",
    "\n",
    "                    # Añadimos el diccionario a la lista de albumes del género\n",
    "                    albums_info.append(info)\n",
    "\n",
    "                # Si ya tenemos suficientes albumes, salimos del bucle\n",
    "                if len(albums_info) >= albums_per_genre:\n",
    "                    break\n",
    "\n",
    "            # También rompemos este bucle si ya tenemos suficientes\n",
    "            if len(albums_info) >= albums_per_genre:\n",
    "                break\n",
    "\n",
    "    # Guardamos los álbumes del género actual en el diccionario principal\n",
    "    datas_albums[genre] = albums_info\n",
    "\n",
    "    # Imprimimos la cantidad de albumes obtenidos para este género\n",
    "    print(f\"✔ {len(albums_info)} álbumes obtenidos de {genre}\")\n",
    "    print('=================================')\n"
   ]
  },
  {
   "cell_type": "markdown",
   "id": "f1f4cc73",
   "metadata": {},
   "source": [
    "### _________CONVERTIR JSON EN CSV_________"
   ]
  },
  {
   "cell_type": "code",
   "execution_count": null,
   "id": "64949522",
   "metadata": {},
   "outputs": [
    {
     "name": "stdout",
     "output_type": "stream",
     "text": [
      "✔ Archivo CSV creado con éxito: albums_v2.csv\n"
     ]
    }
   ],
   "source": [
    "# 1. Creamos una lista vacía para guardar todos los álbumes de todos los géneros\n",
    "all_albums = []\n",
    "\n",
    "# 2. Recorremos el diccionario grande datas_albums\n",
    "for genre, albums in datas_albums.items():\n",
    "    # albums es la lista de diccionarios con info de cada álbum\n",
    "    for album in albums:\n",
    "        all_albums.append(album)   # Vamos añadiendo cada álbum a la lista total\n",
    "\n",
    "# 3. Convertimos la lista completa a un DataFrame de pandas\n",
    "df_albumes = pd.DataFrame(all_albums)\n",
    "\n",
    "# 4. Guardamos el DataFrame en un archivo CSV\n",
    "df_albumes.to_csv('albums_v2.csv', index=False)\n",
    "\n",
    "print(\"✔ Archivo CSV creado con éxito: albums_v2.csv\")"
   ]
  },
  {
   "cell_type": "markdown",
   "id": "228723a6",
   "metadata": {},
   "source": [
    "# ________MÉTODO PARA SACAR ARTISTAS X GÉNERO________\n",
    "Lo usaremos después en LastFM"
   ]
  },
  {
   "cell_type": "code",
   "execution_count": 6,
   "id": "91a3ea0f",
   "metadata": {},
   "outputs": [],
   "source": [
    "# Extracción de todos los artistas únicos a través de los álbumes para CSV\n",
    "all_artists = []\n",
    "for genre_albums in datas_albums.values():\n",
    "    for info in genre_albums:\n",
    "        nombres = info[\"artists_album\"].split(\", \")\n",
    "        for i in nombres:\n",
    "            all_artists.append(i.strip())\n",
    "\n",
    "setartist = set(all_artists)\n",
    "df_artistas = pd.DataFrame(list(setartist), columns=[\"artist\"])\n",
    "df_artistas.to_csv('artistas_v2.csv', index=False)"
   ]
  },
  {
   "cell_type": "code",
   "execution_count": 7,
   "id": "9af24550",
   "metadata": {},
   "outputs": [
    {
     "name": "stdout",
     "output_type": "stream",
     "text": [
      "✔ Se han extraído 333 artistas únicos\n"
     ]
    }
   ],
   "source": [
    "setartist = set(all_artists)\n",
    "df_artistas = pd.DataFrame(list(setartist), columns=[\"artist\"])\n",
    "df_artistas.to_csv('artistas_v2.csv', index=False)\n",
    "\n",
    "print(f\"✔ Se han extraído {len(df_artistas)} artistas únicos\")"
   ]
  },
  {
   "cell_type": "markdown",
   "id": "f32ef449",
   "metadata": {},
   "source": [
    "# ________CONSULTA DE 250 CANCIONES POR GÉNERO________"
   ]
  },
  {
   "cell_type": "code",
   "execution_count": null,
   "id": "938189b6",
   "metadata": {},
   "outputs": [
    {
     "name": "stdout",
     "output_type": "stream",
     "text": [
      "Obteniendo 250 canciones del género rock...\n",
      "Obteniendo 250 canciones del género R&B...\n",
      "Obteniendo 250 canciones del género indie...\n",
      "Obteniendo 250 canciones del género pop...\n",
      "===============\n",
      "✔ Se han obtenido un total de 1000 canciones de todos los géneros.\n"
     ]
    }
   ],
   "source": [
    "genres = [\"rock\", \"R&B\", \"indie\", \"pop\"] # Lista de géneros que queremos consultar\n",
    "songs_per_genre = 250                    # Número máximo de canciones que queremos obtener por género\n",
    "\n",
    "# Lista que guardará todas las canciones de todos los géneros\n",
    "all_songs_list = []\n",
    "\n",
    "# Iteramos por cada género de la lista\n",
    "for genre in genres:\n",
    "    print(f\"Obteniendo {songs_per_genre} canciones del género {genre}...\")\n",
    "    \n",
    "    offsets = range(0, songs_per_genre, 50) # Inicia en 0, termina en 150, y va haciendo saltos 50 en 50, que es lo que nos permite Spotify\n",
    "    \n",
    "    for offset in offsets:\n",
    "        results = sp.search(\n",
    "            q=f\"genre:{genre} year:2010-2015\", # Búsqueda de canciones del género y en ese rango de años\n",
    "            type=\"track\",                      # Queremos resultados del tipo \"track\" (canción)\n",
    "            limit=50,                          # Número máximo por petición, lo que nos deja Spotify\n",
    "            offset=offset,                     # Para paginar\n",
    "            market=\"ES\"                        # Como hemos hecho con albums, en el mercado español\n",
    "        )\n",
    "        # Iteramos cada canción dentro de los resultados \n",
    "        for track in results[\"tracks\"][\"items\"]:\n",
    "            # Y construimos una lista de artistas\n",
    "            artists_track = []\n",
    "            for a in track[\"artists\"]:\n",
    "                artists_track.append(a[\"name\"]) # Añadimos el nombre del artista en esa lista\n",
    "\n",
    "            # Creamos un diccionario con toda la información que nos interesa de cada canción\n",
    "            info = {\n",
    "                \"genre\": genre,                                     # Género de la canción\n",
    "                \"track_name\": track[\"name\"],                        # Nombre del artista\n",
    "                \"track_id\": track[\"id\"],                            # ID de la canción\n",
    "                \"artists_track\": \", \".join(artists_track),          # Lista de artistas convertida en string\n",
    "                \"album_name\": track[\"album\"][\"name\"],               # Nombre del álbum de la canción\n",
    "                \"release_date\": track[\"album\"][\"release_date\"],     # Fecha de lanzamiento del album al que pertenece la canción\n",
    "                \"popularity\": track[\"popularity\"],                  # Popularidad\n",
    "                \"duration_ms\": track[\"duration_ms\"]                 # Duración\n",
    "            }\n",
    "            # Añade la información a la lista principal\n",
    "            all_songs_list.append(info)\n",
    "\n",
    "print(\"===============\")\n",
    "print(f\"✔ Se han obtenido un total de {len(all_songs_list)} canciones de todos los géneros.\")\n",
    "\n",
    "# Creamos un DataFrame y su CSV.\n",
    "df_canciones = pd.DataFrame(all_songs_list)\n",
    "df_canciones.to_csv(\"canciones_v2.csv\", index=False)\n"
   ]
  }
 ],
 "metadata": {
  "kernelspec": {
   "display_name": "Python 3",
   "language": "python",
   "name": "python3"
  },
  "language_info": {
   "codemirror_mode": {
    "name": "ipython",
    "version": 3
   },
   "file_extension": ".py",
   "mimetype": "text/x-python",
   "name": "python",
   "nbconvert_exporter": "python",
   "pygments_lexer": "ipython3",
   "version": "3.13.5"
  }
 },
 "nbformat": 4,
 "nbformat_minor": 5
}
